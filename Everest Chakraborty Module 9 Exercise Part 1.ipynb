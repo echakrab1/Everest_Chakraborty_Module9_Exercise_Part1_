{
 "cells": [
  {
   "cell_type": "markdown",
   "id": "6cd255a0",
   "metadata": {},
   "source": [
    "Exercise 2\n",
    "\n",
    "1. Ask a user for 2 numbers. \n",
    "2. Generate 5 random numbers between those 2 numbers and save it to a list called nos1. \n",
    "3. Generate 3 random numbers between those 2 numbers and save it to a list called nos2. \n",
    "4. Make a copy of nos1 and save it to variable called all_nos.\n",
    "5. Extend nos2 to the end of nos1.\n",
    "6. Print original 5 random numbers, 3 random numbers, and all 8 numbers."
   ]
  },
  {
   "cell_type": "code",
   "execution_count": 1,
   "id": "125c2da7",
   "metadata": {},
   "outputs": [
    {
     "name": "stdout",
     "output_type": "stream",
     "text": [
      "Please enter the first number: 1\n",
      "Please enter the second number: 65\n",
      "[37, 55, 31, 8, 20]\n",
      "[5, 39, 58]\n"
     ]
    }
   ],
   "source": [
    "import random as rand\n",
    "\n",
    "Num1 = int(input(\"Please enter the first number: \"))\n",
    "Num2 = int(input(\"Please enter the second number: \"))\n",
    "\n",
    "numb1 = rand.randint(Num1, Num2)\n",
    "numb2 = rand.randint(Num1, Num2)\n",
    "numb3 = rand.randint(Num1, Num2)\n",
    "numb4 = rand.randint(Num1, Num2)\n",
    "numb5 = rand.randint(Num1, Num2)\n",
    "numb6 = rand.randint(Num1, Num2)\n",
    "numb7 = rand.randint(Num1, Num2)\n",
    "numb8 = rand.randint(Num1, Num2)\n",
    "\n",
    "nos1 = [numb1, numb2, numb3, numb4, numb5]\n",
    "print(nos1)\n",
    "\n",
    "nos2 = [numb6, numb7, numb8]\n",
    "print(nos2)\n",
    "\n"
   ]
  },
  {
   "cell_type": "code",
   "execution_count": 2,
   "id": "8165c2a0",
   "metadata": {},
   "outputs": [
    {
     "name": "stdout",
     "output_type": "stream",
     "text": [
      "[37, 55, 31, 8, 20]\n"
     ]
    }
   ],
   "source": [
    "all_nos = nos1.copy()\n",
    "print(all_nos)\n"
   ]
  },
  {
   "cell_type": "code",
   "execution_count": 3,
   "id": "dfa54fd7",
   "metadata": {},
   "outputs": [
    {
     "name": "stdout",
     "output_type": "stream",
     "text": [
      "[37, 55, 31, 8, 20, 5, 39, 58]\n"
     ]
    }
   ],
   "source": [
    "all_nos.extend(nos2)\n",
    "print(all_nos)"
   ]
  },
  {
   "cell_type": "code",
   "execution_count": 4,
   "id": "694c6bca",
   "metadata": {},
   "outputs": [
    {
     "name": "stdout",
     "output_type": "stream",
     "text": [
      "[37, 55, 31, 8, 20]\n",
      "[5, 39, 58]\n",
      "[37, 55, 31, 8, 20, 5, 39, 58]\n"
     ]
    }
   ],
   "source": [
    "print(nos1)\n",
    "print(nos2)\n",
    "print(all_nos)"
   ]
  },
  {
   "cell_type": "code",
   "execution_count": null,
   "id": "8be8a23a",
   "metadata": {},
   "outputs": [],
   "source": []
  }
 ],
 "metadata": {
  "kernelspec": {
   "display_name": "Python 3 (ipykernel)",
   "language": "python",
   "name": "python3"
  },
  "language_info": {
   "codemirror_mode": {
    "name": "ipython",
    "version": 3
   },
   "file_extension": ".py",
   "mimetype": "text/x-python",
   "name": "python",
   "nbconvert_exporter": "python",
   "pygments_lexer": "ipython3",
   "version": "3.9.12"
  }
 },
 "nbformat": 4,
 "nbformat_minor": 5
}
